{
 "cells": [
  {
   "cell_type": "code",
   "execution_count": null,
   "id": "cb7ef87a",
   "metadata": {},
   "outputs": [],
   "source": [
    "import sys, os\n",
    "project_root = os.path.abspath(os.path.join(os.getcwd(), \"..\"))\n",
    "if project_root not in sys.path:\n",
    "    sys.path.insert(0, project_root)\n"
   ]
  },
  {
   "cell_type": "code",
   "execution_count": 3,
   "id": "c2a1664d",
   "metadata": {},
   "outputs": [
    {
     "name": "stdout",
     "output_type": "stream",
     "text": [
      "<class 'pandas.core.frame.DataFrame'>\n",
      "RangeIndex: 3982 entries, 0 to 3981\n",
      "Data columns (total 14 columns):\n",
      " #   Column               Non-Null Count  Dtype  \n",
      "---  ------               --------------  -----  \n",
      " 0   listing_id           3982 non-null   int64  \n",
      " 1   property_type        3982 non-null   object \n",
      " 2   number_of_bedrooms   3982 non-null   int64  \n",
      " 3   guest_capacity       3982 non-null   int64  \n",
      " 4   location_score       3982 non-null   float64\n",
      " 5   review_score         3982 non-null   float64\n",
      " 6   amenities_count      3982 non-null   int64  \n",
      " 7   host_response_time   3982 non-null   object \n",
      " 8   season               3982 non-null   object \n",
      " 9   minimum_stay_nights  3982 non-null   int64  \n",
      " 10  years_as_host        3982 non-null   float64\n",
      " 11  cleaning_fee         3982 non-null   float64\n",
      " 12  cancellation_policy  3982 non-null   object \n",
      " 13  nightly_rate         3982 non-null   float64\n",
      "dtypes: float64(5), int64(5), object(4)\n",
      "memory usage: 435.7+ KB\n",
      "None\n",
      "          listing_id  number_of_bedrooms  guest_capacity  location_score  \\\n",
      "count    3982.000000         3982.000000     3982.000000     3982.000000   \n",
      "mean   101990.500000            2.185836        3.182320       70.315698   \n",
      "std      1149.648714            1.373346        1.604411       11.131437   \n",
      "min    100000.000000            1.000000        1.000000       33.330000   \n",
      "25%    100995.250000            1.000000        2.000000       62.750000   \n",
      "50%    101990.500000            2.000000        3.000000       70.430000   \n",
      "75%    102985.750000            3.000000        4.000000       77.780000   \n",
      "max    103981.000000            5.000000        7.000000      107.260000   \n",
      "\n",
      "       review_score  amenities_count  minimum_stay_nights  years_as_host  \\\n",
      "count    3982.00000      3982.000000          3982.000000    3982.000000   \n",
      "mean        4.00389         7.943998             2.272476       3.003943   \n",
      "std         0.55978         3.349540             1.236366       2.979756   \n",
      "min         1.99000         3.000000             1.000000       0.000000   \n",
      "25%         3.63000         5.000000             1.000000       0.900000   \n",
      "50%         4.01000         8.000000             2.000000       2.100000   \n",
      "75%         4.39000        10.000000             3.000000       4.100000   \n",
      "max         5.00000        20.000000             5.000000      22.900000   \n",
      "\n",
      "       cleaning_fee  nightly_rate  \n",
      "count   3982.000000   3982.000000  \n",
      "mean      36.306449    180.307187  \n",
      "std       19.792305    120.990889  \n",
      "min       -4.830000     30.000000  \n",
      "25%       20.562500     99.300000  \n",
      "50%       32.670000    147.250000  \n",
      "75%       48.705000    226.047500  \n",
      "max      111.100000   1000.000000  \n",
      "None\n"
     ]
    }
   ],
   "source": [
    "import pandas as pd\n",
    "from src.load_data import load_data\n",
    "from src.eda import summarize, missing_check, plot_correlations, plot_distributions, plot_boxplots, skew_check\n",
    "\n",
    "# load data\n",
    "df = load_data(\"data/airbnb_df.csv\")\n",
    "\n",
    "print(summarize(df))"
   ]
  },
  {
   "cell_type": "code",
   "execution_count": null,
   "id": "61b26ee9",
   "metadata": {},
   "outputs": [],
   "source": []
  }
 ],
 "metadata": {
  "kernelspec": {
   "display_name": "ise535_project",
   "language": "python",
   "name": "python3"
  },
  "language_info": {
   "codemirror_mode": {
    "name": "ipython",
    "version": 3
   },
   "file_extension": ".py",
   "mimetype": "text/x-python",
   "name": "python",
   "nbconvert_exporter": "python",
   "pygments_lexer": "ipython3",
   "version": "3.10.16"
  }
 },
 "nbformat": 4,
 "nbformat_minor": 5
}
